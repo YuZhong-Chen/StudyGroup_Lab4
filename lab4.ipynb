{
 "cells": [
  {
   "cell_type": "markdown",
   "metadata": {},
   "source": [
    "# Lab-04 Q1 GAN"
   ]
  },
  {
   "cell_type": "code",
   "execution_count": null,
   "metadata": {},
   "outputs": [],
   "source": [
    "import torch\n",
    "import wandb # for logging\n",
    "# TODO\n",
    "# import libraries"
   ]
  },
  {
   "cell_type": "code",
   "execution_count": null,
   "metadata": {},
   "outputs": [],
   "source": [
    "# TODO\n",
    "# implement get_data function: return train_dataset, test_dataset.\n",
    "def get_data():\n",
    "    # return train_dataset, test_dataset\n",
    "    pass"
   ]
  },
  {
   "cell_type": "code",
   "execution_count": null,
   "metadata": {},
   "outputs": [],
   "source": [
    "# TODO\n",
    "# Build models\n",
    "# GAN\n",
    "class Generator(torch.nn.Module):\n",
    "    # ...\n",
    "    pass\n",
    "\n",
    "class Discriminator(torch.nn.Module):\n",
    "    # ...\n",
    "    pass"
   ]
  },
  {
   "cell_type": "code",
   "execution_count": null,
   "metadata": {},
   "outputs": [],
   "source": [
    "# TODO\n",
    "# Build DCGAN\n",
    "class DCGenerator(torch.nn.Module):\n",
    "    # ...\n",
    "    pass\n",
    "\n",
    "class DCDiscriminator(torch.nn.Module):\n",
    "    # ...\n",
    "    pass"
   ]
  },
  {
   "cell_type": "code",
   "execution_count": null,
   "metadata": {},
   "outputs": [],
   "source": [
    "# TODO\n",
    "# Build DCGAN\n",
    "class WGenerator(torch.nn.Module):\n",
    "    # ...\n",
    "    pass\n",
    "\n",
    "class WDiscriminator(torch.nn.Module):\n",
    "    # ...\n",
    "    pass"
   ]
  },
  {
   "cell_type": "code",
   "execution_count": null,
   "metadata": {},
   "outputs": [],
   "source": [
    "# TODO\n",
    "# define train function\n",
    "def train(model, train_loader, optimizer, epoch, device):\n",
    "    model.train()\n",
    "    for batch_idx, (data, target) in enumerate(train_loader):\n",
    "        # TODO\n",
    "        # 1. reshape data and target\n",
    "        data, target = data.to(device), target.to(device)\n",
    "        # 2. zero the parameter gradients\n",
    "        # 3. forward + backward + optimize\n",
    "        # 4. print statistics\n",
    "        pass"
   ]
  },
  {
   "cell_type": "code",
   "execution_count": null,
   "metadata": {},
   "outputs": [],
   "source": [
    "# TODO\n",
    "# define test function\n",
    "def test(model, test_loader, device):\n",
    "    model.eval()\n",
    "    test_loss = 0\n",
    "    correct = 0\n",
    "    with torch.no_grad():\n",
    "        for data, target in test_loader:\n",
    "\n",
    "            # TODO\n",
    "            # prepare data and target\n",
    "            # forward model\n",
    "            # calculate loss\n",
    "            # get the index of the max log-probability\n",
    "            # calculate correct\n",
    "            pass"
   ]
  },
  {
   "cell_type": "code",
   "execution_count": null,
   "metadata": {},
   "outputs": [],
   "source": [
    "# TODO\n",
    "# start training ...."
   ]
  }
 ],
 "metadata": {
  "language_info": {
   "name": "python"
  },
  "orig_nbformat": 4
 },
 "nbformat": 4,
 "nbformat_minor": 2
}
